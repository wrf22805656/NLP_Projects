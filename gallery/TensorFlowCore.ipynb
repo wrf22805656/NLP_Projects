{
 "cells": [
  {
   "cell_type": "code",
   "execution_count": 1,
   "outputs": [],
   "source": [
    "# The Sequential Model"
   ],
   "metadata": {
    "collapsed": false,
    "pycharm": {
     "name": "#%%\n"
    }
   }
  },
  {
   "cell_type": "code",
   "execution_count": 2,
   "outputs": [],
   "source": [
    "import tensorflow as tf\n",
    "from tensorflow import keras\n",
    "from tensorflow.keras import layers\n",
    "\n",
    "# when to use a sequential model: A Sequential Model is appropriate for a plain\n",
    "# stack of layers where each layer has exactly one input tensor and one output tensor\n",
    "\n",
    "# Define Sequential model with 3 layers\n",
    "model = tf.keras.Sequential([\n",
    "    tf.keras.layers.Dense(2, activation=\"relu\", name=\"layer1\"),\n",
    "    tf.keras.layers.Dense(3, activation=\"relu\", name=\"layer2\"),\n",
    "    tf.keras.layers.Dense(4, name=\"layer3\")\n",
    "])\n",
    "\n",
    "# call model on a test input\n",
    "x = tf.ones((3,3))\n",
    "y = model(x)\n"
   ],
   "metadata": {
    "collapsed": false,
    "pycharm": {
     "name": "#%%\n"
    }
   }
  },
  {
   "cell_type": "code",
   "execution_count": 3,
   "outputs": [
    {
     "name": "stdout",
     "output_type": "stream",
     "text": [
      "[<tensorflow.python.keras.layers.core.Dense object at 0x7fc61b7325c0>, <tensorflow.python.keras.layers.core.Dense object at 0x7fc61a86ed68>, <tensorflow.python.keras.layers.core.Dense object at 0x7fc61a86ea58>]\n"
     ]
    }
   ],
   "source": [
    "'''\n",
    "A sequential model is not appropriate when:\n",
    "    1. your model has multiple inputs or multiple outputs\n",
    "    2. Any of your layers has multiple inputs or multiple outputs\n",
    "    3. You need to do layer sharing\n",
    "    4. You want non-linear topology (e.g. a residual connection, a multi-branch model)\n",
    "\n",
    "Note: There is also a corresponding pop() method to remove layers:\n",
    "a sequential model behaves very much like a list of layers.\n",
    "\n",
    "'''\n",
    "print(model.layers)"
   ],
   "metadata": {
    "collapsed": false,
    "pycharm": {
     "name": "#%%\n"
    }
   }
  },
  {
   "cell_type": "code",
   "execution_count": 5,
   "outputs": [
    {
     "data": {
      "text/plain": "[<tf.Variable 'dense_1/kernel:0' shape=(4, 3) dtype=float32, numpy=\n array([[ 0.41573596,  0.59593153, -0.87636095],\n        [ 0.7407646 , -0.09603465,  0.45464432],\n        [ 0.79758275, -0.31994504,  0.17598164],\n        [-0.16361725, -0.49288005, -0.8967176 ]], dtype=float32)>,\n <tf.Variable 'dense_1/bias:0' shape=(3,) dtype=float32, numpy=array([0., 0., 0.], dtype=float32)>]"
     },
     "execution_count": 5,
     "metadata": {},
     "output_type": "execute_result"
    }
   ],
   "source": [
    "layer = layers.Dense(3)\n",
    "layer.weights\n",
    "# it create its weights the first time called on an input, since the shape of the\n",
    "# weights depends on the shape of the inputs:\n",
    "\n",
    "# call layer on a test input\n",
    "x = tf.ones((1,4))\n",
    "y = layer(x)\n",
    "layer.weights\n",
    "\n",
    "'''\n",
    "Models built with a predefined input shape like this always have weights (even before\n",
    "seeing any data) and always have a defined output shape.\n",
    "'''"
   ],
   "metadata": {
    "collapsed": false,
    "pycharm": {
     "name": "#%%\n"
    }
   }
  },
  {
   "cell_type": "code",
   "execution_count": 6,
   "outputs": [],
   "source": [
    "'''\n",
    "A common debugging workflow : add() + summary()\n",
    "\n",
    "when building a new Sequential architecture, it is useful to incrementally stack layers\n",
    "with add() and frequently print model summaries. For instance, this enables you to monitor\n",
    "how a stack of Conv2D and MaxPooling2D layers is downsampling image feature maps.\n",
    "\n",
    "'''\n",
    "model = keras.Sequential()\n",
    "model.add(keras.Input(shape=(250, 250, 3))) # 250*250 RGB images\n",
    "model.add(layers.Conv2D(32, 5, strides=2, activation=\"relu\"))\n",
    "model.add(layers.Conv2D(32, 3, activation=\"relu\"))\n",
    "model.add(layers.MaxPool2D(3))"
   ],
   "metadata": {
    "collapsed": false,
    "pycharm": {
     "name": "#%%\n"
    }
   }
  },
  {
   "cell_type": "code",
   "execution_count": 7,
   "outputs": [
    {
     "ename": "AttributeError",
     "evalue": "'ellipsis' object has no attribute 'endswith'",
     "output_type": "error",
     "traceback": [
      "\u001B[0;31m---------------------------------------------------------------------------\u001B[0m",
      "\u001B[0;31mAttributeError\u001B[0m                            Traceback (most recent call last)",
      "\u001B[0;32m<ipython-input-7-61befe0add57>\u001B[0m in \u001B[0;36m<module>\u001B[0;34m\u001B[0m\n\u001B[1;32m     13\u001B[0m \u001B[0;34m\u001B[0m\u001B[0m\n\u001B[1;32m     14\u001B[0m \u001B[0;31m# presumably you would want to first load pre-trained weights\u001B[0m\u001B[0;34m\u001B[0m\u001B[0;34m\u001B[0m\u001B[0;34m\u001B[0m\u001B[0m\n\u001B[0;32m---> 15\u001B[0;31m \u001B[0mmodel\u001B[0m\u001B[0;34m.\u001B[0m\u001B[0mload_weights\u001B[0m\u001B[0;34m(\u001B[0m\u001B[0;34m...\u001B[0m\u001B[0;34m)\u001B[0m\u001B[0;34m\u001B[0m\u001B[0;34m\u001B[0m\u001B[0m\n\u001B[0m\u001B[1;32m     16\u001B[0m \u001B[0;34m\u001B[0m\u001B[0m\n\u001B[1;32m     17\u001B[0m \u001B[0;31m# freeze all layers except the last one.\u001B[0m\u001B[0;34m\u001B[0m\u001B[0;34m\u001B[0m\u001B[0;34m\u001B[0m\u001B[0m\n",
      "\u001B[0;32m~/my_env/lib/python3.7/site-packages/tensorflow/python/keras/engine/training.py\u001B[0m in \u001B[0;36mload_weights\u001B[0;34m(self, filepath, by_name, skip_mismatch, options)\u001B[0m\n\u001B[1;32m   2193\u001B[0m \u001B[0;34m\u001B[0m\u001B[0m\n\u001B[1;32m   2194\u001B[0m     \u001B[0mfilepath\u001B[0m \u001B[0;34m=\u001B[0m \u001B[0mpath_to_string\u001B[0m\u001B[0;34m(\u001B[0m\u001B[0mfilepath\u001B[0m\u001B[0;34m)\u001B[0m\u001B[0;34m\u001B[0m\u001B[0;34m\u001B[0m\u001B[0m\n\u001B[0;32m-> 2195\u001B[0;31m     \u001B[0;32mif\u001B[0m \u001B[0m_is_hdf5_filepath\u001B[0m\u001B[0;34m(\u001B[0m\u001B[0mfilepath\u001B[0m\u001B[0;34m)\u001B[0m\u001B[0;34m:\u001B[0m\u001B[0;34m\u001B[0m\u001B[0;34m\u001B[0m\u001B[0m\n\u001B[0m\u001B[1;32m   2196\u001B[0m       \u001B[0msave_format\u001B[0m \u001B[0;34m=\u001B[0m \u001B[0;34m'h5'\u001B[0m\u001B[0;34m\u001B[0m\u001B[0;34m\u001B[0m\u001B[0m\n\u001B[1;32m   2197\u001B[0m     \u001B[0;32melse\u001B[0m\u001B[0;34m:\u001B[0m\u001B[0;34m\u001B[0m\u001B[0;34m\u001B[0m\u001B[0m\n",
      "\u001B[0;32m~/my_env/lib/python3.7/site-packages/tensorflow/python/keras/engine/training.py\u001B[0m in \u001B[0;36m_is_hdf5_filepath\u001B[0;34m(filepath)\u001B[0m\n\u001B[1;32m   2812\u001B[0m \u001B[0;34m\u001B[0m\u001B[0m\n\u001B[1;32m   2813\u001B[0m \u001B[0;32mdef\u001B[0m \u001B[0m_is_hdf5_filepath\u001B[0m\u001B[0;34m(\u001B[0m\u001B[0mfilepath\u001B[0m\u001B[0;34m)\u001B[0m\u001B[0;34m:\u001B[0m\u001B[0;34m\u001B[0m\u001B[0;34m\u001B[0m\u001B[0m\n\u001B[0;32m-> 2814\u001B[0;31m   return (filepath.endswith('.h5') or filepath.endswith('.keras') or\n\u001B[0m\u001B[1;32m   2815\u001B[0m           filepath.endswith('.hdf5'))\n",
      "\u001B[0;31mAttributeError\u001B[0m: 'ellipsis' object has no attribute 'endswith'"
     ]
    }
   ],
   "source": [
    "# Transfer learning with a Sequential model\n",
    "'''\n",
    "Transfer learning consists of freezing the bottom layers in a model and only training the top layers.\n",
    "\n",
    "'''\n",
    "model = keras.Sequential([\n",
    "    keras.Input(shape=(784)),\n",
    "    layers.Dense(32, activation=\"relu\"),\n",
    "    layers.Dense(32, activation=\"relu\"),\n",
    "    layers.Dense(32, activation=\"relu\"),\n",
    "    layers.Dense(10),\n",
    "])\n",
    "\n",
    "# presumably you would want to first load pre-trained weights\n",
    "model.load_weights(...)\n",
    "\n",
    "# freeze all layers except the last one.\n",
    "for layer in model.layers[:-1]:\n",
    "    layer.trainable = False\n",
    "\n",
    "# recompile and train the model ( this will only updates the weights of the last layer)\n",
    "model.compile(...)\n",
    "model.fit(...)\n"
   ],
   "metadata": {
    "collapsed": false,
    "pycharm": {
     "name": "#%%\n"
    }
   }
  },
  {
   "cell_type": "code",
   "execution_count": null,
   "outputs": [],
   "source": [],
   "metadata": {
    "collapsed": false,
    "pycharm": {
     "name": "#%%\n"
    }
   }
  }
 ],
 "metadata": {
  "kernelspec": {
   "display_name": "Python 3",
   "language": "python",
   "name": "python3"
  },
  "language_info": {
   "codemirror_mode": {
    "name": "ipython",
    "version": 2
   },
   "file_extension": ".py",
   "mimetype": "text/x-python",
   "name": "python",
   "nbconvert_exporter": "python",
   "pygments_lexer": "ipython2",
   "version": "2.7.6"
  }
 },
 "nbformat": 4,
 "nbformat_minor": 0
}